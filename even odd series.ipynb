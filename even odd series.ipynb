{
 "cells": [
  {
   "cell_type": "code",
   "execution_count": 1,
   "id": "5255c071",
   "metadata": {},
   "outputs": [
    {
     "name": "stdout",
     "output_type": "stream",
     "text": [
      "Enter the Size: 9\n",
      "Enter 9 Numbers: 1\n",
      "2\n",
      "3\n",
      "4\n",
      "5\n",
      "6\n",
      "7\n",
      "8\n",
      "9\n",
      "\n",
      "Even Number: 4\n",
      "Odd Number: 5\n"
     ]
    }
   ],
   "source": [
    "nums = []\n",
    "totEven = 0\n",
    "totOdd = 0\n",
    "\n",
    "print(end=\"Enter the Size: \")\n",
    "size = int(input())\n",
    "\n",
    "print(end=\"Enter \" +str(size)+ \" Numbers: \")\n",
    "for i in range(size):\n",
    "  nums.insert(i, int(input()))\n",
    "\n",
    "for i in range(size):\n",
    "  if nums[i]%2==0:\n",
    "    totEven = totEven+1\n",
    "  else:\n",
    "    totOdd = totOdd+1\n",
    "\n",
    "print(\"\\nEven Number: \" +str(totEven))\n",
    "print(\"Odd Number: \" +str(totOdd))"
   ]
  },
  {
   "cell_type": "code",
   "execution_count": null,
   "id": "18d9f7ce",
   "metadata": {},
   "outputs": [],
   "source": []
  }
 ],
 "metadata": {
  "kernelspec": {
   "display_name": "Python 3",
   "language": "python",
   "name": "python3"
  },
  "language_info": {
   "codemirror_mode": {
    "name": "ipython",
    "version": 3
   },
   "file_extension": ".py",
   "mimetype": "text/x-python",
   "name": "python",
   "nbconvert_exporter": "python",
   "pygments_lexer": "ipython3",
   "version": "3.8.8"
  }
 },
 "nbformat": 4,
 "nbformat_minor": 5
}
